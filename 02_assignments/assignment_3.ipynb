{
 "cells": [
  {
   "cell_type": "markdown",
   "id": "7b0bcac6-5086-4f4e-928a-570a9ff7ae58",
   "metadata": {},
   "source": [
    "# Assignment 3"
   ]
  },
  {
   "cell_type": "markdown",
   "id": "5fce0350-2a17-4e93-8d4c-0b8748fdfc32",
   "metadata": {},
   "source": [
    "As before, if a question can be answered with 'yes/no', or a numeric value, you may simply state as much. If you incorporate code from the internet (which is not required and generally not advisable), please cite the source within your code (providing a URL is sufficient).\n",
    "\n",
    "We will go through comparable code and concepts in the live learning session. If you run into trouble, start by using the help `help()` function in Python, to get information about the datasets and function in question. The internet is also a great resource when coding (though note that no outside searches are required by the assignment!). If you do incorporate code from the internet, please cite the source within your code (providing a URL is sufficient).\n",
    "\n",
    "Please bring questions that you cannot work out on your own to office hours, work periods or share with your peers on Slack. We will work with you through the issue."
   ]
  },
  {
   "cell_type": "code",
   "execution_count": 1,
   "id": "b92f7c91",
   "metadata": {},
   "outputs": [],
   "source": [
    "import numpy as np\n",
    "import pandas as pd\n",
    "import matplotlib.pyplot as plt\n",
    "import statsmodels.api as sm"
   ]
  },
  {
   "cell_type": "markdown",
   "id": "d7fff1dd-e4ce-4a60-96a0-d08136e9bf5e",
   "metadata": {},
   "source": [
    "### Question 1: Resampling via Bootstrapping\n",
    "\n",
    "Now, we'll use the `iris` dataset, which we will add to Python using the `statsmodels` library. As always, start by reviewing a description of the dataset, by printing the dataset."
   ]
  },
  {
   "cell_type": "code",
   "execution_count": 2,
   "id": "47f4dcf5-0d4c-41ea-892d-d9f2c1aa1859",
   "metadata": {},
   "outputs": [],
   "source": [
    "# Import\n",
    "iris = sm.datasets.get_rdataset('iris', 'datasets')\n",
    "df = pd.DataFrame(iris.data)"
   ]
  },
  {
   "cell_type": "markdown",
   "id": "7717a32c",
   "metadata": {},
   "source": [
    "_(i)_ Create an `alpha_func(D, idx)` function which takes the `Sepal`'s `width` and `length` to calculate for alpha"
   ]
  },
  {
   "cell_type": "code",
   "execution_count": 4,
   "id": "f3da5483",
   "metadata": {},
   "outputs": [
    {
     "name": "stdout",
     "output_type": "stream",
     "text": [
      "   Sepal.Length  Sepal.Width  Petal.Length  Petal.Width Species\n",
      "0           5.1          3.5           1.4          0.2  setosa\n",
      "1           4.9          3.0           1.4          0.2  setosa\n",
      "2           4.7          3.2           1.3          0.2  setosa\n",
      "3           4.6          3.1           1.5          0.2  setosa\n",
      "4           5.0          3.6           1.4          0.2  setosa\n"
     ]
    }
   ],
   "source": [
    "# Your code here\n",
    "print(df.head())\n",
    "\n",
    "def alpha_func(D, idx):\n",
    "    subset = D.iloc[idx]\n",
    "    \n",
    "    var_length = np.var(subset['Sepal.Length'])\n",
    "    var_width = np.var(subset['Sepal.Width'])\n",
    "    \n",
    "    alpha = var_length / var_width\n",
    "    \n",
    "    return alpha"
   ]
  },
  {
   "cell_type": "markdown",
   "id": "ff94d66b",
   "metadata": {},
   "source": [
    "Test the code below"
   ]
  },
  {
   "cell_type": "code",
   "execution_count": 5,
   "id": "eda715cd",
   "metadata": {},
   "outputs": [
    {
     "data": {
      "text/plain": [
       "1.7966540178669808"
      ]
     },
     "execution_count": 5,
     "metadata": {},
     "output_type": "execute_result"
    }
   ],
   "source": [
    "alpha_func(df, range(100))"
   ]
  },
  {
   "cell_type": "markdown",
   "id": "f338b14e",
   "metadata": {},
   "source": [
    "_(ii)_ Construct a new bootstrap data set and recompute alpha"
   ]
  },
  {
   "cell_type": "code",
   "execution_count": 6,
   "id": "34ee835f",
   "metadata": {},
   "outputs": [
    {
     "data": {
      "text/plain": [
       "2.4301464922876552"
      ]
     },
     "execution_count": 6,
     "metadata": {},
     "output_type": "execute_result"
    }
   ],
   "source": [
    "rng = np.random.default_rng(0)\n",
    "alpha_func(df,\n",
    "           rng.choice(100,\n",
    "                      100,\n",
    "                      replace=True))"
   ]
  },
  {
   "cell_type": "markdown",
   "id": "056080ff-7aec-41aa-bb61-763b390e4cf2",
   "metadata": {},
   "source": [
    "Imagine we are analysts working for a shipping company. The company wants to know the average length of iris' petals, to inform space allotment on an upcoming shipment. The relevant variable in the dataset is `Sepal.Length`. \n",
    "\n",
    "_(iii)_ Why is it (perhaps) not sufficient to simply calculate the mean of `Sepal.Length`? What more information will preforming a bootstrap provide to us?  \n",
    "\n",
    "Answer: Simply calculating the mean of Sepal.Length gives us an estimate of the central tendency of the sepal lengths. This does not provide information about the variability or uncertainty of this estimate. The mean alone does not indicate how reliable this estimate is or how much it might vary with different samples.\n",
    "\n",
    "_(iv)_ We can perform bootstrapping in Python by defining a simple function using `boot_SE()` for computing the bootstrap standard error. Remember, because bootstrapping involves randomness, we must first set a seed for reproducibility!"
   ]
  },
  {
   "cell_type": "code",
   "execution_count": 7,
   "id": "77540f76-7747-4dba-8e77-e1ded54af536",
   "metadata": {},
   "outputs": [],
   "source": [
    "# Add your code here to set the seed\n",
    "\n",
    "np.random.seed(42)\n",
    "\n",
    "def boot_SE(data, num_bootstrap_samples=1000):\n",
    "    boot_means = []\n",
    "    \n",
    "\n",
    "    for _ in range(num_bootstrap_samples):\n",
    "        bootstrap_sample = data.sample(n=len(data), replace=True)\n",
    "        boot_mean = bootstrap_sample['Sepal.Length'].mean()\n",
    "        boot_means.append(boot_mean)\n",
    "    \n",
    "    boot_se = np.std(boot_means)\n",
    "    \n",
    "    return boot_se\n",
    "\n",
    "sepal_length_boot_se = boot_SE(df)"
   ]
  },
  {
   "cell_type": "markdown",
   "id": "8a543472",
   "metadata": {},
   "source": [
    "_(v)_ Evaluate the accuracy of our alpha estimate with B = 1000"
   ]
  },
  {
   "cell_type": "code",
   "execution_count": 8,
   "id": "9ed41c4e",
   "metadata": {},
   "outputs": [
    {
     "name": "stdout",
     "output_type": "stream",
     "text": [
      "Bootstrap Alpha Mean: 3.6529194387864865\n",
      "Bootstrap Alpha Standard Deviation: 0.6032158888673489\n"
     ]
    }
   ],
   "source": [
    "# Your code here\n",
    "def bootstrap_alpha(data, B=1000):\n",
    "    rng = np.random.default_rng(42)  \n",
    "    boot_alphas = []\n",
    "\n",
    "    for _ in range(B):\n",
    "        bootstrap_sample_indices = rng.choice(len(data), len(data), replace=True)\n",
    "\n",
    "        alpha_value = alpha_func(data, bootstrap_sample_indices)\n",
    "        boot_alphas.append(alpha_value)\n",
    "    \n",
    "    return np.array(boot_alphas)\n",
    "\n",
    "bootstrap_alphas = bootstrap_alpha(df)\n",
    "\n",
    "alpha_mean = np.mean(bootstrap_alphas)\n",
    "alpha_std = np.std(bootstrap_alphas)\n",
    "\n",
    "print(f\"Bootstrap Alpha Mean: {alpha_mean}\")\n",
    "print(f\"Bootstrap Alpha Standard Deviation: {alpha_std}\")"
   ]
  },
  {
   "cell_type": "markdown",
   "id": "785fe758-f395-40b6-a9a3-28ec2efeba29",
   "metadata": {},
   "source": [
    "_(vi)_ What is the original mean value of `Sepal.Length`?\n",
    "\n",
    "Next, let's look _inside_ our bootstrapping to understand the new, bootstrapped sample we have created. Let's review the bootstrapped range, by using `t_range = np.ptp(boot_se_samples)`.\n",
    "\n",
    "_(vii)_. Write code to review the bootstrapped mean value, and the standard deviation of the bootstrapped samples. Compare the mean against its original value."
   ]
  },
  {
   "cell_type": "code",
   "execution_count": 9,
   "id": "7686243c",
   "metadata": {},
   "outputs": [
    {
     "name": "stdout",
     "output_type": "stream",
     "text": [
      "Original Mean of Sepal.Length: 5.843333333333334\n",
      "Bootstrap Standard Error of Sepal.Length: 0.06853610473968365\n",
      "Range of Bootstrapped Samples: 0.44266666666666765\n",
      "Bootstrapped Mean of Sepal.Length: 5.842439333333334\n",
      "Bootstrapped Standard Deviation of Sepal.Length: 0.06853610473968365\n",
      "Original Mean of Sepal.Length: 5.843333333333334\n",
      "Difference between Bootstrapped Mean and Original Mean: -0.0008939999999997283\n"
     ]
    }
   ],
   "source": [
    "# Add your code here\n",
    "\n",
    "# Calculate the original mean value of Sepal.Length\n",
    "original_mean_sepal_length = df['Sepal.Length'].mean()\n",
    "\n",
    "print(f\"Original Mean of Sepal.Length: {original_mean_sepal_length}\")\n",
    "\n",
    "def boot_SE(data, num_bootstrap_samples=1000):\n",
    "    # Initialize a list to store the mean values from bootstrap samples\n",
    "    boot_means = []\n",
    "    \n",
    "    # Perform bootstrapping\n",
    "    for _ in range(num_bootstrap_samples):\n",
    "        # Create a bootstrap sample\n",
    "        bootstrap_sample = data.sample(n=len(data), replace=True)\n",
    "        # Calculate the mean of the bootstrap sample\n",
    "        boot_mean = bootstrap_sample['Sepal.Length'].mean()\n",
    "        # Append the mean to the list\n",
    "        boot_means.append(boot_mean)\n",
    "    \n",
    "    # Convert list to numpy array\n",
    "    boot_means = np.array(boot_means)\n",
    "    \n",
    "    # Calculate the standard error of the bootstrap means\n",
    "    boot_se = np.std(boot_means)\n",
    "    \n",
    "    return boot_se, boot_means\n",
    "\n",
    "# Compute the bootstrap standard error and bootstrap samples for Sepal.Length\n",
    "sepal_length_boot_se, boot_se_samples = boot_SE(df)\n",
    "\n",
    "# Calculate the range of the bootstrapped samples\n",
    "t_range = np.ptp(boot_se_samples)\n",
    "\n",
    "print(f\"Bootstrap Standard Error of Sepal.Length: {sepal_length_boot_se}\")\n",
    "print(f\"Range of Bootstrapped Samples: {t_range}\")\n",
    "\n",
    "# Calculate the mean and standard deviation of the bootstrapped samples\n",
    "boot_mean = np.mean(boot_se_samples)\n",
    "boot_std = np.std(boot_se_samples)\n",
    "\n",
    "print(f\"Bootstrapped Mean of Sepal.Length: {boot_mean}\")\n",
    "print(f\"Bootstrapped Standard Deviation of Sepal.Length: {boot_std}\")\n",
    "\n",
    "# Compare the bootstrapped mean against the original mean\n",
    "print(f\"Original Mean of Sepal.Length: {original_mean_sepal_length}\")\n",
    "print(f\"Difference between Bootstrapped Mean and Original Mean: {boot_mean - original_mean_sepal_length}\")\n"
   ]
  },
  {
   "cell_type": "markdown",
   "id": "66c6c663-f3bb-4a15-8896-6dccfb7259fd",
   "metadata": {},
   "source": [
    "_(viii)_ Next, let's compute 95% confidence intervals, for the mean value of iris petal length. (Hint: use the `np.percentile` function)"
   ]
  },
  {
   "cell_type": "code",
   "execution_count": null,
   "id": "cddcb4c7",
   "metadata": {},
   "outputs": [],
   "source": []
  },
  {
   "cell_type": "code",
   "execution_count": 10,
   "id": "74de4a76-e500-4c93-82a9-e7365cc86c91",
   "metadata": {},
   "outputs": [
    {
     "name": "stdout",
     "output_type": "stream",
     "text": [
      "95% Confidence Interval for the Mean of Sepal.Length: [5.70665    5.97733333]\n"
     ]
    }
   ],
   "source": [
    "# Add your code here\n",
    "conf_interval = np.percentile(boot_se_samples, [2.5, 97.5])\n",
    "\n",
    "print(f\"95% Confidence Interval for the Mean of Sepal.Length: {conf_interval}\")"
   ]
  },
  {
   "cell_type": "markdown",
   "id": "488e54f7-ebe4-4740-835c-9832320005d0",
   "metadata": {},
   "source": [
    "_(ix)_. Use the plot function to create an histogram of the bootstrapped samples. What does this histogram show ?"
   ]
  },
  {
   "cell_type": "code",
   "execution_count": 11,
   "id": "4fca4e3f",
   "metadata": {},
   "outputs": [
    {
     "data": {
      "image/png": "[encoded data removed]",
      "text/plain": [
       "<Figure size 640x480 with 1 Axes>"
      ]
     },
     "metadata": {},
     "output_type": "display_data"
    }
   ],
   "source": [
    "#Complete this\n",
    "\n",
    "import matplotlib.pyplot as plt\n",
    "\n",
    "# Create a figure and axis\n",
    "fig, ax = plt.subplots()\n",
    "\n",
    "# Create the histogram\n",
    "ax.hist(boot_se_samples, bins=30, edgecolor='black')\n",
    "\n",
    "# Add a title\n",
    "ax.set_title('Histogram of Bootstrapped Means of Sepal.Length')\n",
    "\n",
    "# Add a label to the x-axis\n",
    "ax.set_xlabel('Bootstrapped Mean of Sepal.Length')\n",
    "\n",
    "# Add a label to the y-axis\n",
    "ax.set_ylabel('Frequency')\n",
    "\n",
    "# Show the plot\n",
    "plt.show()\n"
   ]
  },
  {
   "cell_type": "markdown",
   "id": "bfa9a095-9c7a-4ab5-aa99-b11bf419fae0",
   "metadata": {},
   "source": [
    "_(x)_ Given your bootstrapped analysis, what do you recommend to shipping company? "
   ]
  },
  {
   "cell_type": "code",
   "execution_count": 12,
   "id": "5e83202e-4aab-44bb-8586-5d0e82e9e201",
   "metadata": {},
   "outputs": [
    {
     "ename": "SyntaxError",
     "evalue": "invalid syntax (1375748642.py, line 2)",
     "output_type": "error",
     "traceback": [
      "\u001b[0;36m  Cell \u001b[0;32mIn[12], line 2\u001b[0;36m\u001b[0m\n\u001b[0;31m    The shipping company should plan for an average Sepal.Length of 5.84 cm, consider using 5.99 cm as a safe upper bound, and regularly monitor the lengths to ensure consistency.\u001b[0m\n\u001b[0m        ^\u001b[0m\n\u001b[0;31mSyntaxError\u001b[0m\u001b[0;31m:\u001b[0m invalid syntax\n"
     ]
    }
   ],
   "source": [
    "# Write your answer here\n",
    "The shipping company should plan for an average Sepal.Length of 5.84 cm, consider using 5.99 cm as a safe upper bound, and regularly monitor the lengths to ensure consistency."
   ]
  },
  {
   "cell_type": "markdown",
   "id": "466943e8",
   "metadata": {},
   "source": [
    "# Criteria\n",
    "\n",
    "|Criteria            |Complete           |Incomplete          |\n",
    "|--------------------|---------------|--------------|\n",
    "|Bootstrapping|All steps are done correctly and the answers are correct.|At least one step is done incorrectly leading to a wrong answer.|"
   ]
  },
  {
   "cell_type": "markdown",
   "id": "68b8a226",
   "metadata": {},
   "source": [
    "## Submission Information\n",
    "\n",
    "🚨 **Please review our [Assignment Submission Guide](https://github.com/UofT-DSI/onboarding/blob/main/onboarding_documents/submissions.md)** 🚨 for detailed instructions on how to format, branch, and submit your work. Following these guidelines is crucial for your submissions to be evaluated correctly.\n",
    "\n",
    "### Note:\n",
    "\n",
    "If you like, you may collaborate with others in the cohort. If you choose to do so, please indicate with whom you have worked with in your pull request by tagging their GitHub username. Separate submissions are required.\n",
    "\n",
    "\n",
    "### Submission Parameters:\n",
    "* Submission Due Date: `HH:MM AM/PM - DD/MM/YYYY`\n",
    "* The branch name for your repo should be: `assignment-3`\n",
    "* What to submit for this assignment:\n",
    "    * This Jupyter Notebook (assignment_3.ipynb) should be populated and should be the only change in your pull request.\n",
    "* What the pull request link should look like for this assignment: `https://github.com/<your_github_username>/applying_statistical_concepts/pull/<pr_id>`\n",
    "    * Open a private window in your browser. Copy and paste the link to your pull request into the address bar. Make sure you can see your pull request properly. This helps the technical facilitator and learning support staff review your submission easily.\n",
    "\n",
    "Checklist:\n",
    "- [ ] Created a branch with the correct naming convention.\n",
    "- [ ] Ensured that the repository is public.\n",
    "- [ ] Reviewed the PR description guidelines and adhered to them.\n",
    "- [ ] Verify that the link is accessible in a private browser window.\n",
    "\n",
    "If you encounter any difficulties or have questions, please don't hesitate to reach out to our team via our Slack at `#cohort-3-help`. Our Technical Facilitators and Learning Support staff are here to help you navigate any challenges.\n"
   ]
  }
 ],
 "metadata": {
  "kernelspec": {
   "display_name": "Python 3.10.4",
   "language": "python",
   "name": "python3"
  },
  "language_info": {
   "codemirror_mode": {
    "name": "ipython",
    "version": 3
   },
   "file_extension": ".py",
   "mimetype": "text/x-python",
   "name": "python",
   "nbconvert_exporter": "python",
   "pygments_lexer": "ipython3",
   "version": "3.9.19"
  },
  "vscode": {
   "interpreter": {
    "hash": "497a84dc8fec8cf8d24e7e87b6d954c9a18a327edc66feb9b9ea7e9e72cc5c7e"
   }
  }
 },
 "nbformat": 4,
 "nbformat_minor": 5
}
